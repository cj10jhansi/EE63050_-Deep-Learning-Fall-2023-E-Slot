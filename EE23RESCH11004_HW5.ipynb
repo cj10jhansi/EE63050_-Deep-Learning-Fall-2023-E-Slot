{
  "nbformat": 4,
  "nbformat_minor": 0,
  "metadata": {
    "colab": {
      "provenance": []
    },
    "kernelspec": {
      "name": "python3",
      "display_name": "Python 3"
    },
    "language_info": {
      "name": "python"
    }
  },
  "cells": [
    {
      "cell_type": "code",
      "execution_count": null,
      "metadata": {
        "id": "fKBrvMilVCLM",
        "colab": {
          "base_uri": "https://localhost:8080/"
        },
        "outputId": "872a0a6a-3a4e-4c89-e915-43f9f9a2c940"
      },
      "outputs": [
        {
          "output_type": "stream",
          "name": "stdout",
          "text": [
            "Requirement already satisfied: torch in /usr/local/lib/python3.10/dist-packages (2.1.0+cu118)\n",
            "Requirement already satisfied: torchvision in /usr/local/lib/python3.10/dist-packages (0.16.0+cu118)\n",
            "Requirement already satisfied: filelock in /usr/local/lib/python3.10/dist-packages (from torch) (3.12.4)\n",
            "Requirement already satisfied: typing-extensions in /usr/local/lib/python3.10/dist-packages (from torch) (4.5.0)\n",
            "Requirement already satisfied: sympy in /usr/local/lib/python3.10/dist-packages (from torch) (1.12)\n",
            "Requirement already satisfied: networkx in /usr/local/lib/python3.10/dist-packages (from torch) (3.2)\n",
            "Requirement already satisfied: jinja2 in /usr/local/lib/python3.10/dist-packages (from torch) (3.1.2)\n",
            "Requirement already satisfied: fsspec in /usr/local/lib/python3.10/dist-packages (from torch) (2023.6.0)\n",
            "Requirement already satisfied: triton==2.1.0 in /usr/local/lib/python3.10/dist-packages (from torch) (2.1.0)\n",
            "Requirement already satisfied: numpy in /usr/local/lib/python3.10/dist-packages (from torchvision) (1.23.5)\n",
            "Requirement already satisfied: requests in /usr/local/lib/python3.10/dist-packages (from torchvision) (2.31.0)\n",
            "Requirement already satisfied: pillow!=8.3.*,>=5.3.0 in /usr/local/lib/python3.10/dist-packages (from torchvision) (9.4.0)\n",
            "Requirement already satisfied: MarkupSafe>=2.0 in /usr/local/lib/python3.10/dist-packages (from jinja2->torch) (2.1.3)\n",
            "Requirement already satisfied: charset-normalizer<4,>=2 in /usr/local/lib/python3.10/dist-packages (from requests->torchvision) (3.3.1)\n",
            "Requirement already satisfied: idna<4,>=2.5 in /usr/local/lib/python3.10/dist-packages (from requests->torchvision) (3.4)\n",
            "Requirement already satisfied: urllib3<3,>=1.21.1 in /usr/local/lib/python3.10/dist-packages (from requests->torchvision) (2.0.7)\n",
            "Requirement already satisfied: certifi>=2017.4.17 in /usr/local/lib/python3.10/dist-packages (from requests->torchvision) (2023.7.22)\n",
            "Requirement already satisfied: mpmath>=0.19 in /usr/local/lib/python3.10/dist-packages (from sympy->torch) (1.3.0)\n"
          ]
        }
      ],
      "source": [
        "pip install torch torchvision"
      ]
    },
    {
      "cell_type": "markdown",
      "source": [
        "Import Libraries"
      ],
      "metadata": {
        "id": "ZFU9HYg4bPAc"
      }
    },
    {
      "cell_type": "code",
      "source": [
        "import torch, torchvision\n",
        "from torch import nn\n",
        "from torch import optim\n",
        "from torchvision.transforms import ToTensor\n",
        "import torch.nn.functional as F\n",
        "import matplotlib.pyplot as plt\n",
        "from torch.utils.data import DataLoader\n",
        "from torchvision.datasets import MNIST\n",
        "from torchvision import transforms\n",
        "from sklearn.manifold import TSNE\n",
        "import numpy as np\n"
      ],
      "metadata": {
        "id": "xM_7lPx-ZbN_"
      },
      "execution_count": 22,
      "outputs": []
    },
    {
      "cell_type": "code",
      "source": [
        "numb_batch = 64"
      ],
      "metadata": {
        "id": "f3FHFB6yb7iC"
      },
      "execution_count": 4,
      "outputs": []
    },
    {
      "cell_type": "code",
      "source": [
        "T = torchvision.transforms.Compose([torchvision.transforms.ToTensor()])\n",
        "\n",
        "train_data = torchvision.datasets.MNIST('mnist_data', train = True, download=True, transform=T)\n",
        "val_data = torchvision.datasets.MNIST('mnist_data', train=True, download=True, transform=T)\n"
      ],
      "metadata": {
        "id": "-Oz7dZgicEzB",
        "colab": {
          "base_uri": "https://localhost:8080/"
        },
        "outputId": "75662b53-1dc4-481d-d106-5ba90bcdaa35"
      },
      "execution_count": 5,
      "outputs": [
        {
          "output_type": "stream",
          "name": "stdout",
          "text": [
            "Downloading http://yann.lecun.com/exdb/mnist/train-images-idx3-ubyte.gz\n",
            "Downloading http://yann.lecun.com/exdb/mnist/train-images-idx3-ubyte.gz to mnist_data/MNIST/raw/train-images-idx3-ubyte.gz\n"
          ]
        },
        {
          "output_type": "stream",
          "name": "stderr",
          "text": [
            "100%|██████████| 9912422/9912422 [00:00<00:00, 125818483.26it/s]\n"
          ]
        },
        {
          "output_type": "stream",
          "name": "stdout",
          "text": [
            "Extracting mnist_data/MNIST/raw/train-images-idx3-ubyte.gz to mnist_data/MNIST/raw\n",
            "\n",
            "Downloading http://yann.lecun.com/exdb/mnist/train-labels-idx1-ubyte.gz\n",
            "Downloading http://yann.lecun.com/exdb/mnist/train-labels-idx1-ubyte.gz to mnist_data/MNIST/raw/train-labels-idx1-ubyte.gz\n"
          ]
        },
        {
          "output_type": "stream",
          "name": "stderr",
          "text": [
            "100%|██████████| 28881/28881 [00:00<00:00, 31108293.23it/s]\n"
          ]
        },
        {
          "output_type": "stream",
          "name": "stdout",
          "text": [
            "Extracting mnist_data/MNIST/raw/train-labels-idx1-ubyte.gz to mnist_data/MNIST/raw\n",
            "\n",
            "Downloading http://yann.lecun.com/exdb/mnist/t10k-images-idx3-ubyte.gz\n",
            "Downloading http://yann.lecun.com/exdb/mnist/t10k-images-idx3-ubyte.gz to mnist_data/MNIST/raw/t10k-images-idx3-ubyte.gz\n"
          ]
        },
        {
          "output_type": "stream",
          "name": "stderr",
          "text": [
            "100%|██████████| 1648877/1648877 [00:00<00:00, 38265368.61it/s]\n"
          ]
        },
        {
          "output_type": "stream",
          "name": "stdout",
          "text": [
            "Extracting mnist_data/MNIST/raw/t10k-images-idx3-ubyte.gz to mnist_data/MNIST/raw\n",
            "\n",
            "Downloading http://yann.lecun.com/exdb/mnist/t10k-labels-idx1-ubyte.gz\n",
            "Downloading http://yann.lecun.com/exdb/mnist/t10k-labels-idx1-ubyte.gz to mnist_data/MNIST/raw/t10k-labels-idx1-ubyte.gz\n"
          ]
        },
        {
          "output_type": "stream",
          "name": "stderr",
          "text": [
            "100%|██████████| 4542/4542 [00:00<00:00, 1854246.52it/s]"
          ]
        },
        {
          "output_type": "stream",
          "name": "stdout",
          "text": [
            "Extracting mnist_data/MNIST/raw/t10k-labels-idx1-ubyte.gz to mnist_data/MNIST/raw\n",
            "\n"
          ]
        },
        {
          "output_type": "stream",
          "name": "stderr",
          "text": [
            "\n"
          ]
        }
      ]
    },
    {
      "cell_type": "code",
      "source": [
        "plt.imshow(train_data[0][0][0], cmap ='gray')"
      ],
      "metadata": {
        "colab": {
          "base_uri": "https://localhost:8080/",
          "height": 447
        },
        "id": "1WWl4XN1cE6S",
        "outputId": "72622f07-86fa-4044-972b-92df66ae0736"
      },
      "execution_count": 6,
      "outputs": [
        {
          "output_type": "execute_result",
          "data": {
            "text/plain": [
              "<matplotlib.image.AxesImage at 0x7874ee941120>"
            ]
          },
          "metadata": {},
          "execution_count": 6
        },
        {
          "output_type": "display_data",
          "data": {
            "text/plain": [
              "<Figure size 640x480 with 1 Axes>"
            ],
            "image/png": "[encoded data removed]"
          },
          "metadata": {}
        }
      ]
    },
    {
      "cell_type": "code",
      "source": [
        "# Define the CNN architecture\n",
        "class CNN(nn.Module):\n",
        "    def __init__(self):\n",
        "        super(CNN, self).__init__()\n",
        "\n",
        "        # Convolutional layers\n",
        "        self.conv1 = nn.Conv2d(1, 4, kernel_size=5, stride=1, padding=2)\n",
        "        self.relu1 = nn.ReLU()\n",
        "        self.maxpool1 = nn.MaxPool2d(kernel_size=2, stride=2)\n",
        "\n",
        "        self.conv2 = nn.Conv2d(4, 16, kernel_size=5, stride=1, padding=2)\n",
        "        self.relu2 = nn.ReLU()\n",
        "        self.maxpool2 = nn.MaxPool2d(kernel_size=2, stride=2)\n",
        "\n",
        "        # Flattening layer (identity matrix)\n",
        "        self.flatten = nn.Identity()\n",
        "\n",
        "        # MLP\n",
        "        self.fc1 = nn.Linear(16 * 7 * 7, 49)\n",
        "        self.relu3 = nn.ReLU()\n",
        "        self.fc2 = nn.Linear(49, 10)\n",
        "        self.softmax = nn.Softmax(dim=1)\n",
        "\n",
        "    def forward(self, x):\n",
        "        x = self.maxpool1(self.relu1(self.conv1(x)))\n",
        "        x = self.maxpool2(self.relu2(self.conv2(x)))\n",
        "        x = self.flatten(x.view(-1, 16 * 7 * 7))\n",
        "        x = self.relu3(self.fc1(x))\n",
        "        x = self.softmax(self.fc2(x))\n",
        "        return x\n",
        "\n",
        "# Set random seed for reproducibility\n",
        "torch.manual_seed(42)\n",
        "\n",
        "# Load MNIST dataset\n",
        "transform = transforms.Compose([transforms.ToTensor()])\n",
        "train_dataset = MNIST('mnist_data', train=True, download=True, transform=transform)\n",
        "test_dataset = MNIST('mnist_data', train=False, download=True, transform=transform)"
      ],
      "metadata": {
        "id": "xNMBs_5lJItY"
      },
      "execution_count": 7,
      "outputs": []
    },
    {
      "cell_type": "code",
      "source": [
        "# Select 100 images per class for training\n",
        "indices = []\n",
        "for i in range(10):\n",
        "    indices += list(range(i * 600, i * 600 + 100))\n",
        "\n",
        "# Create data loader for training\n",
        "train_loader = DataLoader(dataset=train_dataset, batch_size=64, sampler=torch.utils.data.SubsetRandomSampler(indices))\n",
        "\n",
        "# Create data loader for testing (use 10 images per class)\n",
        "test_indices = []\n",
        "for i in range(10):\n",
        "    test_indices += list(range(i * 1000, i * 1000 + 10))\n",
        "test_loader = DataLoader(dataset=test_dataset, batch_size=1, sampler=torch.utils.data.SubsetRandomSampler(test_indices))\n",
        "\n",
        "# Initialize the model, loss function, and optimizer\n",
        "model = CNN()\n",
        "criterion = nn.CrossEntropyLoss()\n",
        "\n",
        "# (a) Vanilla SGD\n",
        "optimizer_sgd = optim.SGD(model.parameters(), lr=0.001)\n",
        "\n",
        "# (b) Momentum\n",
        "optimizer_momentum = optim.SGD(model.parameters(), lr=0.001, momentum=0.9)\n",
        "\n",
        "# (c) RMSProp\n",
        "optimizer_rmsprop = optim.RMSprop(model.parameters(), lr=0.001, alpha=0.9)\n",
        "\n",
        "# Training loop\n",
        "num_epochs = 15\n",
        "train_errors_sgd, train_errors_momentum, train_errors_rmsprop = [], [], []\n",
        "test_errors_sgd, test_errors_momentum, test_errors_rmsprop = [], [], []\n",
        "\n",
        "for epoch in range(num_epochs):\n",
        "# Training loop\n",
        "    model.train()\n",
        "    for batch_idx, (data, targets) in enumerate(train_loader):\n",
        "        # Forward pass\n",
        "        outputs = model(data)\n",
        "        loss_sgd = criterion(outputs, targets)\n",
        "\n",
        "        # Backward pass and optimization\n",
        "        optimizer_sgd.zero_grad()\n",
        "        loss_sgd.backward()\n",
        "        optimizer_sgd.step()\n",
        "\n"
      ],
      "metadata": {
        "id": "036apoFyCoiB"
      },
      "execution_count": 9,
      "outputs": []
    },
    {
      "cell_type": "code",
      "source": [
        "    # Test the model after each epoch\n",
        "    model.eval()\n",
        "    with torch.no_grad():\n",
        "        # Compute training errors\n",
        "        train_errors_sgd.append(loss_sgd.item())\n",
        "\n",
        "        # Compute test errors\n",
        "        test_loss_sgd = 0.0\n",
        "\n",
        "        for data, targets in test_loader:\n",
        "            outputs = model(data)\n",
        "            test_loss_sgd += criterion(outputs, targets).item()\n",
        "\n",
        "        test_errors_sgd.append(test_loss_sgd / len(test_loader))\n",
        ""
      ],
      "metadata": {
        "id": "6hzXSAxiMjyN"
      },
      "execution_count": 11,
      "outputs": []
    },
    {
      "cell_type": "code",
      "source": [
        "# RMSprop\n",
        "for epoch in range(num_epochs):\n",
        "# Training loop\n",
        "    model.train()\n",
        "    for batch_idx, (data, targets) in enumerate(train_loader):\n",
        "        # Forward pass\n",
        "        outputs = model(data)\n",
        "        loss_rmsprop = criterion(outputs, targets)\n",
        "\n",
        "        # Backward pass and optimization\n",
        "        optimizer_rmsprop.zero_grad()\n",
        "        loss_rmsprop.backward()\n",
        "        optimizer_rmsprop.step()\n",
        "    # Test the model after each epoch\n",
        "    model.eval()\n",
        "    with torch.no_grad():\n",
        "        # Compute training errors\n",
        "        train_errors_rmsprop.append(loss_rmsprop.item())\n",
        "\n",
        "        # Compute test errors\n",
        "        test_loss_rmsprop = 0.0\n",
        "\n",
        "        for data, targets in test_loader:\n",
        "            outputs = model(data)\n",
        "            test_loss_rmsprop += criterion(outputs, targets).item()\n",
        "\n",
        "        test_errors_rmsprop.append(test_loss_rmsprop / len(test_loader))\n",
        ""
      ],
      "metadata": {
        "id": "UZhiqs0JOO8p"
      },
      "execution_count": 13,
      "outputs": []
    },
    {
      "cell_type": "code",
      "source": [
        "# Momentum\n",
        "for epoch in range(num_epochs):\n",
        "# Training loop\n",
        "    model.train()\n",
        "    for batch_idx, (data, targets) in enumerate(train_loader):\n",
        "        # Forward pass\n",
        "        outputs = model(data)\n",
        "        loss_momentum = criterion(outputs, targets)\n",
        "\n",
        "        # Backward pass and optimization\n",
        "        optimizer_momentum.zero_grad()\n",
        "        loss_momentum.backward()\n",
        "        optimizer_momentum.step()\n",
        "    # Test the model after each epoch\n",
        "    model.eval()\n",
        "    with torch.no_grad():\n",
        "        # Compute training errors\n",
        "        train_errors_momentum.append(loss_momentum.item())\n",
        "\n",
        "        # Compute test errors\n",
        "        test_loss_momentum = 0.0\n",
        "\n",
        "        for data, targets in test_loader:\n",
        "            outputs = model(data)\n",
        "            test_loss_momentum += criterion(outputs, targets).item()\n",
        "\n",
        "        test_errors_momentum.append(test_loss_momentum / len(test_loader))\n",
        ""
      ],
      "metadata": {
        "id": "lrZw58XNP3Zp"
      },
      "execution_count": null,
      "outputs": []
    },
    {
      "cell_type": "code",
      "source": [
        "def visualize_activation_maps(data, model, layer_idx):\n",
        "    activations = []\n",
        "    def hook(module, input, output):\n",
        "        activations.append(output)\n",
        "\n",
        "    hook_handle = model.conv1.register_forward_hook(hook) if layer_idx == 1 else model.conv2.register_forward_hook(hook)\n",
        "\n",
        "    model.eval()\n",
        "    with torch.no_grad():\n",
        "        _ = model(data)\n",
        "\n",
        "    hook_handle.remove()\n",
        "    activation_maps = activations[0].squeeze().cpu().numpy()\n",
        "\n",
        "    # Visualize a few slices\n",
        "    num_slices = min(4, activation_maps.shape[0])\n",
        "    fig, axes = plt.subplots(1, num_slices, figsize=(12, 3))\n",
        "\n",
        "    for i in range(num_slices):\n",
        "        axes[i].imshow(activation_maps[i], cmap='viridis')\n",
        "        axes[i].axis('off')\n",
        "        axes[i].set_title(f'Slice {i + 1}')\n",
        "\n",
        "    plt.show()\n",
        "\n",
        "# Visualize activation maps for a few test samples\n",
        "for data, _ in test_loader:\n",
        "    visualize_activation_maps(data, model, layer_idx=1)  # Choose 1 for conv1 or 2 for conv2\n",
        "    break"
      ],
      "metadata": {
        "colab": {
          "base_uri": "https://localhost:8080/",
          "height": 261
        },
        "id": "jRsLt410C2QS",
        "outputId": "9278350c-59f7-43a2-e8a7-2ea7f33e0612"
      },
      "execution_count": 19,
      "outputs": [
        {
          "output_type": "display_data",
          "data": {
            "text/plain": [
              "<Figure size 1200x300 with 4 Axes>"
            ],
            "image/png": "[encoded data removed]"
          },
          "metadata": {}
        }
      ]
    },
    {
      "cell_type": "code",
      "source": [
        "def compute_accuracy(loader, model):\n",
        "    correct = 0\n",
        "    total = 0\n",
        "    with torch.no_grad():\n",
        "        model.eval()\n",
        "        for data, targets in loader:\n",
        "            outputs = model(data)\n",
        "            _, predicted = torch.max(outputs, 1)\n",
        "            total += targets.size(0)\n",
        "            correct += (predicted == targets).sum().item()\n",
        "\n",
        "    accuracy = correct / total\n",
        "    return accuracy\n",
        "\n",
        "# Report accuracy\n",
        "train_accuracy = compute_accuracy(train_loader, model)\n",
        "test_accuracy = compute_accuracy(test_loader, model)\n",
        "print(f'Training Accuracy: {train_accuracy * 100:.2f}%, Test Accuracy: {test_accuracy * 100:.2f}%')\n"
      ],
      "metadata": {
        "colab": {
          "base_uri": "https://localhost:8080/"
        },
        "id": "IoY7CB88RsMh",
        "outputId": "486c8b05-4555-4828-fb98-15d166b94978"
      },
      "execution_count": 20,
      "outputs": [
        {
          "output_type": "stream",
          "name": "stdout",
          "text": [
            "Training Accuracy: 79.30%, Test Accuracy: 78.00%\n"
          ]
        }
      ]
    },
    {
      "cell_type": "code",
      "source": [
        "def apply_tsne(model, loader):\n",
        "    model.eval()\n",
        "    features = []\n",
        "    labels = []\n",
        "\n",
        "    with torch.no_grad():\n",
        "        for data, targets in loader:\n",
        "            output = model(data)\n",
        "            features.append(model.fc1(data.view(-1, 16 * 7 * 7)).cpu().numpy())\n",
        "            labels.append(targets.item())\n",
        "\n",
        "    features = np.vstack(features)\n",
        "    tsne_result = TSNE(n_components=2).fit_transform(features)\n",
        "\n",
        "    plt.figure(figsize=(8, 6))\n",
        "    for i in range(10):\n",
        "        indices = np.where(np.array(labels) == i)[0]\n",
        "        plt.scatter(tsne_result[indices, 0], tsne_result[indices, 1], label=str(i), alpha=0.7)\n",
        "    plt.title('t-SNE Visualization')\n",
        "    plt.legend()\n",
        "    plt.show()\n",
        "\n",
        "# Apply tSNE for the first epoch\n",
        "model = CNN()\n",
        "optimizer_sgd_tsne = optim.SGD(model.parameters(), lr=0.001)\n",
        "for epoch in range(num_epochs):\n",
        "# Training loop\n",
        "    model.train()\n",
        "    for batch_idx, (data, targets) in enumerate(train_loader):\n",
        "        # Forward pass\n",
        "        outputs = model(data)\n",
        "        loss_sgd_tsne = criterion(outputs, targets)\n",
        "\n",
        "        # Backward pass and optimization\n",
        "        optimizer_sgd_tsne.zero_grad()\n",
        "        loss_sgd_tsne.backward()\n",
        "        optimizer_sgd_tsne.step()\n",
        "apply_tsne(model, test_loader)\n"
      ],
      "metadata": {
        "colab": {
          "base_uri": "https://localhost:8080/",
          "height": 545
        },
        "id": "or4DUfnDRw_O",
        "outputId": "e8732a4f-d0c5-49c7-debe-416499cc458a"
      },
      "execution_count": 23,
      "outputs": [
        {
          "output_type": "display_data",
          "data": {
            "text/plain": [
              "<Figure size 800x600 with 1 Axes>"
            ],
            "image/png": "[encoded data removed]"
          },
          "metadata": {}
        }
      ]
    },
    {
      "cell_type": "code",
      "source": [
        "# Apply dropout to the MLP\n",
        "class CNNWithDropout(nn.Module):\n",
        "    def __init__(self, dropout_rate=0.5):\n",
        "        super(CNNWithDropout, self).__init__()\n",
        "        # Convolutional layers\n",
        "        self.conv1 = nn.Conv2d(1, 4, kernel_size=5, stride=1)\n",
        "        self.relu1 = nn.ReLU()\n",
        "        self.maxpool1 = nn.MaxPool2d(kernel_size=2, stride=2)\n",
        "\n",
        "        self.conv2 = nn.Conv2d(4, 16, kernel_size=5, stride=1)\n",
        "        self.relu2 = nn.ReLU()\n",
        "        self.maxpool2 = nn.MaxPool2d(kernel_size=2, stride=2)\n",
        "\n",
        "        # Flattening layer (identity matrix)\n",
        "        self.flatten = nn.Identity()\n",
        "\n",
        "        # MLP with dropout\n",
        "        self.fc1 = nn.Linear(16 * 5 * 5, 49)\n",
        "        self.dropout = nn.Dropout(p=dropout_rate)\n",
        "        self.relu3 = nn.ReLU()\n",
        "        self.fc2 = nn.Linear(49, 10)\n",
        "        self.softmax = nn.Softmax(dim=1)\n",
        "\n",
        "    def forward(self, x):\n",
        "        x = self.maxpool1(self.relu1(self.conv1(x)))\n",
        "        x = self.maxpool2(self.relu2(self.conv2(x)))\n",
        "        x = self.flatten(x)\n",
        "        x = self.relu3(self.dropout(x))\n",
        "        x = self.softmax(x)\n",
        "        return x\n",
        "\n",
        "# Instantiate the model with dropout\n",
        "model_dropout = CNNWithDropout(dropout_rate=0.5)\n",
        "\n",
        "# Choose an optimizer and criterion for training\n",
        "optimizer_dropout = optim.RMSprop(model_dropout.parameters(), lr=0.001, alpha=0.9)\n",
        "\n",
        "# Train the model with dropout\n",
        "train_errors_dropout, test_errors_dropout = [],[]\n",
        "\n",
        "for epoch in range(num_epochs):\n",
        "# Training loop\n",
        "    model_dropout.train()\n",
        "    for batch_idx, (data, targets) in enumerate(train_loader):\n",
        "        # Forward pass\n",
        "        outputs = model_dropout(data)\n",
        "        loss_dropout = criterion(outputs, targets)\n",
        "\n",
        "        # Backward pass and optimization\n",
        "        optimizer_dropout.zero_grad()\n",
        "        loss_dropout.backward()\n",
        "        optimizer_dropout.step()\n",
        "    # Test the model after each epoch\n",
        "    model.eval()\n",
        "    with torch.no_grad():\n",
        "        # Compute training errors\n",
        "        train_errors_dropout.append(loss_dropout.item())\n",
        "\n",
        "        # Compute test errors\n",
        "        test_loss_dropout = 0.0\n",
        "\n",
        "        for data, targets in test_loader:\n",
        "            outputs = model(data)\n",
        "            test_loss_dropout += criterion(outputs, targets).item()\n",
        "\n",
        "        test_errors_dropout.append(test_loss_dropout / len(test_loader))\n",
        "\n",
        "# Apply batch normalization to the MLP\n",
        "class CNNWithBatchNorm(nn.Module):\n",
        "    def __init__(self):\n",
        "        # Convolutional layers\n",
        "        self.conv1 = nn.Conv2d(1, 4, kernel_size=5, stride=1)\n",
        "        self.relu1 = nn.ReLU()\n",
        "        self.maxpool1 = nn.MaxPool2d(kernel_size=2, stride=2)\n",
        "\n",
        "        self.conv2 = nn.Conv2d(4, 16, kernel_size=5, stride=1)\n",
        "        self.relu2 = nn.ReLU()\n",
        "        self.maxpool2 = nn.MaxPool2d(kernel_size=2, stride=2)\n",
        "\n",
        "        # Flattening layer (identity matrix)\n",
        "        self.flatten = nn.Identity()\n",
        "\n",
        "        # MLP with batch normalization and dropout\n",
        "        self.fc1 = nn.Linear(16 * 7 * 7, 49)\n",
        "        self.batch_norm = nn.BatchNorm1d(49)\n",
        "        self.dropout = nn.Dropout(p=0.2)\n",
        "        self.relu3 = nn.ReLU()\n",
        "        self.fc2 = nn.Linear(49, 10)\n",
        "        self.softmax = nn.Softmax(dim=1)\n",
        "\n",
        "    def forward(self, x):\n",
        "        x = self.maxpool1(self.relu1(self.conv1(x)))\n",
        "        x = self.maxpool2(self.relu2(self.conv2(x)))\n",
        "        x = self.flatten(x.view(-1, 16 * 5 * 5))\n",
        "        x = self.relu3(self.dropout(self.batch_norm(self.fc1(x))))\n",
        "        x = self.softmax(self.fc2(x))\n",
        "        return x\n",
        "\n",
        "# Instantiate the model with batch normalization\n",
        "model_batchnorm = CNNWithBatchNorm()\n",
        "\n",
        "# Choose an optimizer and criterion for training\n",
        "optimizer_batchnorm = optim.RMSprop(model_batchnorm.parameters(), lr=0.001, rho=0.9)\n",
        "\n",
        "# Train the model with batch normalization\n",
        "train_errors_batchnorm, test_errors_batchnorm = [],[]\n",
        "\n",
        "for epoch in range(num_epochs):\n",
        "# Training loop\n",
        "    model_batchnorm.train()\n",
        "    for batch_idx, (data, targets) in enumerate(train_loader):\n",
        "        # Forward pass\n",
        "        outputs = model_batchnorm(data)\n",
        "        loss_batchnorm = criterion(outputs, targets)\n",
        "\n",
        "        # Backward pass and optimization\n",
        "        optimizer_batchnorm.zero_grad()\n",
        "        loss_batchnorm.backward()\n",
        "        optimizer_batchnorm.step()\n",
        "\n",
        "      # Test the model after each epoch\n",
        "    model.eval()\n",
        "    with torch.no_grad():\n",
        "        # Compute training errors\n",
        "        train_errors_batchnorm.append(loss_batchnorm.item())\n",
        "\n",
        "        # Compute test errors\n",
        "        test_loss_batchnorm = 0.0\n",
        "\n",
        "        for data, targets in test_loader:\n",
        "            outputs = model(data)\n",
        "            test_loss_batchnorm += criterion(outputs, targets).item()\n",
        "\n",
        "        test_errors_batchnorm.append(test_loss_batchnorm / len(test_loader))\n"
      ],
      "metadata": {
        "colab": {
          "base_uri": "https://localhost:8080/",
          "height": 426
        },
        "id": "7OhzrTeXTS_V",
        "outputId": "9d5cdc7d-ee06-4caa-a08e-dfa47d2a579a"
      },
      "execution_count": 29,
      "outputs": [
        {
          "output_type": "error",
          "ename": "RuntimeError",
          "evalue": "ignored",
          "traceback": [
            "\u001b[0;31m---------------------------------------------------------------------------\u001b[0m",
            "\u001b[0;31mRuntimeError\u001b[0m                              Traceback (most recent call last)",
            "\u001b[0;32m<ipython-input-29-1ace36e0cf21>\u001b[0m in \u001b[0;36m<cell line: 41>\u001b[0;34m()\u001b[0m\n\u001b[1;32m     45\u001b[0m         \u001b[0;31m# Forward pass\u001b[0m\u001b[0;34m\u001b[0m\u001b[0;34m\u001b[0m\u001b[0m\n\u001b[1;32m     46\u001b[0m         \u001b[0moutputs\u001b[0m \u001b[0;34m=\u001b[0m \u001b[0mmodel_dropout\u001b[0m\u001b[0;34m(\u001b[0m\u001b[0mdata\u001b[0m\u001b[0;34m)\u001b[0m\u001b[0;34m\u001b[0m\u001b[0;34m\u001b[0m\u001b[0m\n\u001b[0;32m---> 47\u001b[0;31m         \u001b[0mloss_dropout\u001b[0m \u001b[0;34m=\u001b[0m \u001b[0mcriterion\u001b[0m\u001b[0;34m(\u001b[0m\u001b[0moutputs\u001b[0m\u001b[0;34m,\u001b[0m \u001b[0mtargets\u001b[0m\u001b[0;34m)\u001b[0m\u001b[0;34m\u001b[0m\u001b[0;34m\u001b[0m\u001b[0m\n\u001b[0m\u001b[1;32m     48\u001b[0m \u001b[0;34m\u001b[0m\u001b[0m\n\u001b[1;32m     49\u001b[0m         \u001b[0;31m# Backward pass and optimization\u001b[0m\u001b[0;34m\u001b[0m\u001b[0;34m\u001b[0m\u001b[0m\n",
            "\u001b[0;32m/usr/local/lib/python3.10/dist-packages/torch/nn/modules/module.py\u001b[0m in \u001b[0;36m_wrapped_call_impl\u001b[0;34m(self, *args, **kwargs)\u001b[0m\n\u001b[1;32m   1516\u001b[0m             \u001b[0;32mreturn\u001b[0m \u001b[0mself\u001b[0m\u001b[0;34m.\u001b[0m\u001b[0m_compiled_call_impl\u001b[0m\u001b[0;34m(\u001b[0m\u001b[0;34m*\u001b[0m\u001b[0margs\u001b[0m\u001b[0;34m,\u001b[0m \u001b[0;34m**\u001b[0m\u001b[0mkwargs\u001b[0m\u001b[0;34m)\u001b[0m  \u001b[0;31m# type: ignore[misc]\u001b[0m\u001b[0;34m\u001b[0m\u001b[0;34m\u001b[0m\u001b[0m\n\u001b[1;32m   1517\u001b[0m         \u001b[0;32melse\u001b[0m\u001b[0;34m:\u001b[0m\u001b[0;34m\u001b[0m\u001b[0;34m\u001b[0m\u001b[0m\n\u001b[0;32m-> 1518\u001b[0;31m             \u001b[0;32mreturn\u001b[0m \u001b[0mself\u001b[0m\u001b[0;34m.\u001b[0m\u001b[0m_call_impl\u001b[0m\u001b[0;34m(\u001b[0m\u001b[0;34m*\u001b[0m\u001b[0margs\u001b[0m\u001b[0;34m,\u001b[0m \u001b[0;34m**\u001b[0m\u001b[0mkwargs\u001b[0m\u001b[0;34m)\u001b[0m\u001b[0;34m\u001b[0m\u001b[0;34m\u001b[0m\u001b[0m\n\u001b[0m\u001b[1;32m   1519\u001b[0m \u001b[0;34m\u001b[0m\u001b[0m\n\u001b[1;32m   1520\u001b[0m     \u001b[0;32mdef\u001b[0m \u001b[0m_call_impl\u001b[0m\u001b[0;34m(\u001b[0m\u001b[0mself\u001b[0m\u001b[0;34m,\u001b[0m \u001b[0;34m*\u001b[0m\u001b[0margs\u001b[0m\u001b[0;34m,\u001b[0m \u001b[0;34m**\u001b[0m\u001b[0mkwargs\u001b[0m\u001b[0;34m)\u001b[0m\u001b[0;34m:\u001b[0m\u001b[0;34m\u001b[0m\u001b[0;34m\u001b[0m\u001b[0m\n",
            "\u001b[0;32m/usr/local/lib/python3.10/dist-packages/torch/nn/modules/module.py\u001b[0m in \u001b[0;36m_call_impl\u001b[0;34m(self, *args, **kwargs)\u001b[0m\n\u001b[1;32m   1525\u001b[0m                 \u001b[0;32mor\u001b[0m \u001b[0m_global_backward_pre_hooks\u001b[0m \u001b[0;32mor\u001b[0m \u001b[0m_global_backward_hooks\u001b[0m\u001b[0;34m\u001b[0m\u001b[0;34m\u001b[0m\u001b[0m\n\u001b[1;32m   1526\u001b[0m                 or _global_forward_hooks or _global_forward_pre_hooks):\n\u001b[0;32m-> 1527\u001b[0;31m             \u001b[0;32mreturn\u001b[0m \u001b[0mforward_call\u001b[0m\u001b[0;34m(\u001b[0m\u001b[0;34m*\u001b[0m\u001b[0margs\u001b[0m\u001b[0;34m,\u001b[0m \u001b[0;34m**\u001b[0m\u001b[0mkwargs\u001b[0m\u001b[0;34m)\u001b[0m\u001b[0;34m\u001b[0m\u001b[0;34m\u001b[0m\u001b[0m\n\u001b[0m\u001b[1;32m   1528\u001b[0m \u001b[0;34m\u001b[0m\u001b[0m\n\u001b[1;32m   1529\u001b[0m         \u001b[0;32mtry\u001b[0m\u001b[0;34m:\u001b[0m\u001b[0;34m\u001b[0m\u001b[0;34m\u001b[0m\u001b[0m\n",
            "\u001b[0;32m/usr/local/lib/python3.10/dist-packages/torch/nn/modules/loss.py\u001b[0m in \u001b[0;36mforward\u001b[0;34m(self, input, target)\u001b[0m\n\u001b[1;32m   1177\u001b[0m \u001b[0;34m\u001b[0m\u001b[0m\n\u001b[1;32m   1178\u001b[0m     \u001b[0;32mdef\u001b[0m \u001b[0mforward\u001b[0m\u001b[0;34m(\u001b[0m\u001b[0mself\u001b[0m\u001b[0;34m,\u001b[0m \u001b[0minput\u001b[0m\u001b[0;34m:\u001b[0m \u001b[0mTensor\u001b[0m\u001b[0;34m,\u001b[0m \u001b[0mtarget\u001b[0m\u001b[0;34m:\u001b[0m \u001b[0mTensor\u001b[0m\u001b[0;34m)\u001b[0m \u001b[0;34m->\u001b[0m \u001b[0mTensor\u001b[0m\u001b[0;34m:\u001b[0m\u001b[0;34m\u001b[0m\u001b[0;34m\u001b[0m\u001b[0m\n\u001b[0;32m-> 1179\u001b[0;31m         return F.cross_entropy(input, target, weight=self.weight,\n\u001b[0m\u001b[1;32m   1180\u001b[0m                                \u001b[0mignore_index\u001b[0m\u001b[0;34m=\u001b[0m\u001b[0mself\u001b[0m\u001b[0;34m.\u001b[0m\u001b[0mignore_index\u001b[0m\u001b[0;34m,\u001b[0m \u001b[0mreduction\u001b[0m\u001b[0;34m=\u001b[0m\u001b[0mself\u001b[0m\u001b[0;34m.\u001b[0m\u001b[0mreduction\u001b[0m\u001b[0;34m,\u001b[0m\u001b[0;34m\u001b[0m\u001b[0;34m\u001b[0m\u001b[0m\n\u001b[1;32m   1181\u001b[0m                                label_smoothing=self.label_smoothing)\n",
            "\u001b[0;32m/usr/local/lib/python3.10/dist-packages/torch/nn/functional.py\u001b[0m in \u001b[0;36mcross_entropy\u001b[0;34m(input, target, weight, size_average, ignore_index, reduce, reduction, label_smoothing)\u001b[0m\n\u001b[1;32m   3051\u001b[0m     \u001b[0;32mif\u001b[0m \u001b[0msize_average\u001b[0m \u001b[0;32mis\u001b[0m \u001b[0;32mnot\u001b[0m \u001b[0;32mNone\u001b[0m \u001b[0;32mor\u001b[0m \u001b[0mreduce\u001b[0m \u001b[0;32mis\u001b[0m \u001b[0;32mnot\u001b[0m \u001b[0;32mNone\u001b[0m\u001b[0;34m:\u001b[0m\u001b[0;34m\u001b[0m\u001b[0;34m\u001b[0m\u001b[0m\n\u001b[1;32m   3052\u001b[0m         \u001b[0mreduction\u001b[0m \u001b[0;34m=\u001b[0m \u001b[0m_Reduction\u001b[0m\u001b[0;34m.\u001b[0m\u001b[0mlegacy_get_string\u001b[0m\u001b[0;34m(\u001b[0m\u001b[0msize_average\u001b[0m\u001b[0;34m,\u001b[0m \u001b[0mreduce\u001b[0m\u001b[0;34m)\u001b[0m\u001b[0;34m\u001b[0m\u001b[0;34m\u001b[0m\u001b[0m\n\u001b[0;32m-> 3053\u001b[0;31m     \u001b[0;32mreturn\u001b[0m \u001b[0mtorch\u001b[0m\u001b[0;34m.\u001b[0m\u001b[0m_C\u001b[0m\u001b[0;34m.\u001b[0m\u001b[0m_nn\u001b[0m\u001b[0;34m.\u001b[0m\u001b[0mcross_entropy_loss\u001b[0m\u001b[0;34m(\u001b[0m\u001b[0minput\u001b[0m\u001b[0;34m,\u001b[0m \u001b[0mtarget\u001b[0m\u001b[0;34m,\u001b[0m \u001b[0mweight\u001b[0m\u001b[0;34m,\u001b[0m \u001b[0m_Reduction\u001b[0m\u001b[0;34m.\u001b[0m\u001b[0mget_enum\u001b[0m\u001b[0;34m(\u001b[0m\u001b[0mreduction\u001b[0m\u001b[0;34m)\u001b[0m\u001b[0;34m,\u001b[0m \u001b[0mignore_index\u001b[0m\u001b[0;34m,\u001b[0m \u001b[0mlabel_smoothing\u001b[0m\u001b[0;34m)\u001b[0m\u001b[0;34m\u001b[0m\u001b[0;34m\u001b[0m\u001b[0m\n\u001b[0m\u001b[1;32m   3054\u001b[0m \u001b[0;34m\u001b[0m\u001b[0m\n\u001b[1;32m   3055\u001b[0m \u001b[0;34m\u001b[0m\u001b[0m\n",
            "\u001b[0;31mRuntimeError\u001b[0m: only batches of spatial targets supported (3D tensors) but got targets of dimension: 1"
          ]
        }
      ]
    }
  ]
}