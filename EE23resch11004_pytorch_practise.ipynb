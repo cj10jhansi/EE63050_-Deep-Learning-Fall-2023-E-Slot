{
 "cells": [
  {
   "cell_type": "code",
   "execution_count": 7,
   "id": "22435373-f282-45d8-8c14-2837e2506868",
   "metadata": {},
   "outputs": [],
   "source": [
    "import torch\n",
    "from torch import nn\n",
    "from torch.utils.data import DataLoader\n",
    "from torchvision import datasets\n",
    "from torchvision.transforms import ToTensor"
   ]
  },
  {
   "cell_type": "code",
   "execution_count": 5,
   "id": "70325f4f-816b-4dbc-a38e-50da091446a2",
   "metadata": {},
   "outputs": [],
   "source": [
    "tr_data = datasets.FashionMNIST(\n",
    "    root=\"data\",\n",
    "    train=True,\n",
    "    download=True,\n",
    "    transform=ToTensor(),\n",
    ")"
   ]
  },
  {
   "cell_type": "code",
   "execution_count": 6,
   "id": "d77c0c3e-634d-4997-a018-6181aeb3c29c",
   "metadata": {},
   "outputs": [],
   "source": [
    "test_data = datasets.FashionMNIST(\n",
    "    root = \"data\",\n",
    "    train = False,\n",
    "    download = True,\n",
    "    transform=ToTensor(),\n",
    ")"
   ]
  },
  {
   "cell_type": "code",
   "execution_count": 8,
   "id": "156d01b4-762d-4b4d-a4cf-3328a19d8a1e",
   "metadata": {},
   "outputs": [
    {
     "name": "stdout",
     "output_type": "stream",
     "text": [
      "shape of x[N,C,H,W]: torch.Size([64, 1, 28, 28])\n",
      "shape of y: torch.Size([64]) torch.int64\n"
     ]
    }
   ],
   "source": [
    "batch_size = 64\n",
    "\n",
    "#create data loaders\n",
    "tr_dataloader =  DataLoader(tr_data, batch_size = batch_size)\n",
    "test_dataloader = DataLoader(test_data, batch_size = batch_size)\n",
    "\n",
    "for x,y in test_dataloader:\n",
    "    print(f\"shape of x[N,C,H,W]: {x.shape}\")\n",
    "    print(f\"shape of y: {y.shape} {y.dtype}\")\n",
    "    break"
   ]
  },
  {
   "cell_type": "code",
   "execution_count": 9,
   "id": "c0e4f81c-461e-48f6-91ee-740911396f4d",
   "metadata": {},
   "outputs": [
    {
     "name": "stdout",
     "output_type": "stream",
     "text": [
      "Using cpu device\n"
     ]
    }
   ],
   "source": [
    "# Get CPU, GPU or MPS device for training\n",
    "device = (\n",
    "    \"cuda\"\n",
    "    if torch.cuda.is_available()\n",
    "    else \"mps\"\n",
    "    if torch.backends.mps.is_available()\n",
    "    else \"cpu\"\n",
    ")\n",
    "\n",
    "print(f\"Using {device} device\")\n",
    "\n"
   ]
  },
  {
   "cell_type": "code",
   "execution_count": 10,
   "id": "d680142a-ae46-40d5-b468-f7399eaa0430",
   "metadata": {},
   "outputs": [
    {
     "name": "stdout",
     "output_type": "stream",
     "text": [
      "NeuralNetwork(\n",
      "  (flattern): Flatten(start_dim=1, end_dim=-1)\n",
      "  (linear_relu_stack): Sequential(\n",
      "    (0): Linear(in_features=784, out_features=512, bias=True)\n",
      "    (1): ReLU()\n",
      "    (2): Linear(in_features=512, out_features=512, bias=True)\n",
      "    (3): ReLU()\n",
      "    (4): Linear(in_features=512, out_features=10, bias=True)\n",
      "  )\n",
      ")\n"
     ]
    }
   ],
   "source": [
    "# Define model\n",
    "class NeuralNetwork(nn.Module):\n",
    "    def __init__(self):\n",
    "        super().__init__()\n",
    "        self.flattern = nn.Flatten()\n",
    "        self.linear_relu_stack = nn.Sequential(\n",
    "            nn.Linear(28*28, 512),\n",
    "            nn.ReLU(),\n",
    "            nn.Linear(512,512),\n",
    "            nn.ReLU(),\n",
    "            nn.Linear(512,10)\n",
    "        )\n",
    "    def forward(self,xx):\n",
    "        xx = self.flattern(xx)\n",
    "        logits = self.linear_relu_stack(xx)\n",
    "        return logits\n",
    "\n",
    "model = NeuralNetwork().to(device)\n",
    "print(model)"
   ]
  },
  {
   "cell_type": "code",
   "execution_count": 12,
   "id": "379d9dd9-3178-492c-8e64-a1dbdd4a12ac",
   "metadata": {},
   "outputs": [],
   "source": [
    "# Optimizing the model parameters\n",
    "loss_fn = nn.CrossEntropyLoss()\n",
    "optimizer = torch.optim.SGD(model.parameters(), lr = 1e-3)"
   ]
  },
  {
   "cell_type": "code",
   "execution_count": 21,
   "id": "20c68076-50d2-41d4-b18f-443a270f2fec",
   "metadata": {},
   "outputs": [],
   "source": [
    "def train(dataloader, model, loss_fn, optimizer):\n",
    "    size = len(dataloader.dataset)\n",
    "    model.train()\n",
    "    for batch, (x, y) in enumerate(dataloader):\n",
    "        x, y = x.to(device), y.to(device)\n",
    "\n",
    "        # Compute prediction error\n",
    "        pred = model(x)\n",
    "        loss = loss_fn(pred, y)\n",
    "\n",
    "        # Backpropagation\n",
    "        loss.backward()\n",
    "        optimizer.step()\n",
    "        optimizer.zero_grad()\n",
    "\n",
    "        if batch % 100 == 0:\n",
    "            loss, current = loss.item(), (batch + 1) * len(x)\n",
    "            print(f\"loss: {loss:>7f}  [{current:>5d}/{size:>5d}]\")"
   ]
  },
  {
   "cell_type": "code",
   "execution_count": 22,
   "id": "db2db33e-4b6c-4b7a-94c8-38df4824a6f3",
   "metadata": {},
   "outputs": [],
   "source": [
    "def test(dataloader, model, loss_fn):\n",
    "    size = len(dataloader.dataset)\n",
    "    num_batches = len(dataloader)\n",
    "    model.eval()\n",
    "    test_loss, correct = 0, 0\n",
    "    with torch.no_grad():\n",
    "        for x, y in dataloader:\n",
    "            x, y = x.to(device), y.to(device)\n",
    "            pred = model(x)\n",
    "            test_loss += loss_fn(pred, y).item()\n",
    "            correct += (pred.argmax(1) == y).type(torch.float).sum().item()\n",
    "    test_loss /= num_batches\n",
    "    correct /= size\n",
    "    print(f\"Test Error: \\n Accuracy: {(100*correct):>0.1f}%, Avg loss: {test_loss:>8f} \\n\")"
   ]
  },
  {
   "cell_type": "code",
   "execution_count": 23,
   "id": "50f0a887-7f84-4355-8d1c-264b8ac3e71c",
   "metadata": {},
   "outputs": [
    {
     "name": "stdout",
     "output_type": "stream",
     "text": [
      "Epoch 1\n",
      "----------------------------------------------\n",
      "loss: 2.182451  [   64/60000]\n",
      "loss: 2.173256  [ 6464/60000]\n",
      "loss: 2.124861  [12864/60000]\n",
      "loss: 2.137191  [19264/60000]\n",
      "loss: 2.079765  [25664/60000]\n",
      "loss: 2.040083  [32064/60000]\n",
      "loss: 2.055743  [38464/60000]\n",
      "loss: 1.989784  [44864/60000]\n",
      "loss: 1.993903  [51264/60000]\n",
      "loss: 1.917793  [57664/60000]\n",
      "Test Error: \n",
      " Accuracy: 57.4%, Avg loss: 1.920681 \n",
      "\n",
      "Epoch 2\n",
      "----------------------------------------------\n",
      "loss: 1.950999  [   64/60000]\n",
      "loss: 1.920612  [ 6464/60000]\n",
      "loss: 1.813970  [12864/60000]\n",
      "loss: 1.848483  [19264/60000]\n",
      "loss: 1.728804  [25664/60000]\n",
      "loss: 1.692943  [32064/60000]\n",
      "loss: 1.705989  [38464/60000]\n",
      "loss: 1.612233  [44864/60000]\n",
      "loss: 1.635736  [51264/60000]\n",
      "loss: 1.521456  [57664/60000]\n",
      "Test Error: \n",
      " Accuracy: 58.8%, Avg loss: 1.544791 \n",
      "\n",
      "Epoch 3\n",
      "----------------------------------------------\n",
      "loss: 1.611457  [   64/60000]\n",
      "loss: 1.570752  [ 6464/60000]\n",
      "loss: 1.429320  [12864/60000]\n",
      "loss: 1.492967  [19264/60000]\n",
      "loss: 1.364732  [25664/60000]\n",
      "loss: 1.369862  [32064/60000]\n",
      "loss: 1.375434  [38464/60000]\n",
      "loss: 1.303325  [44864/60000]\n",
      "loss: 1.337422  [51264/60000]\n",
      "loss: 1.228773  [57664/60000]\n",
      "Test Error: \n",
      " Accuracy: 62.8%, Avg loss: 1.263747 \n",
      "\n",
      "Epoch 4\n",
      "----------------------------------------------\n",
      "loss: 1.343756  [   64/60000]\n",
      "loss: 1.317926  [ 6464/60000]\n",
      "loss: 1.158473  [12864/60000]\n",
      "loss: 1.259388  [19264/60000]\n",
      "loss: 1.129339  [25664/60000]\n",
      "loss: 1.160859  [32064/60000]\n",
      "loss: 1.177141  [38464/60000]\n",
      "loss: 1.114772  [44864/60000]\n",
      "loss: 1.153272  [51264/60000]\n",
      "loss: 1.064919  [57664/60000]\n",
      "Test Error: \n",
      " Accuracy: 64.3%, Avg loss: 1.093067 \n",
      "\n",
      "Epoch 5\n",
      "----------------------------------------------\n",
      "loss: 1.168674  [   64/60000]\n",
      "loss: 1.161691  [ 6464/60000]\n",
      "loss: 0.982680  [12864/60000]\n",
      "loss: 1.117702  [19264/60000]\n",
      "loss: 0.985351  [25664/60000]\n",
      "loss: 1.023427  [32064/60000]\n",
      "loss: 1.058850  [38464/60000]\n",
      "loss: 0.998199  [44864/60000]\n",
      "loss: 1.035706  [51264/60000]\n",
      "loss: 0.965138  [57664/60000]\n",
      "Test Error: \n",
      " Accuracy: 65.2%, Avg loss: 0.984895 \n",
      "\n",
      "Done!\n"
     ]
    }
   ],
   "source": [
    "epochs = 5\n",
    "for t in range(epochs):\n",
    "    print(f\"Epoch {t+1}\\n----------------------------------------------\")\n",
    "    train(tr_dataloader, model, loss_fn, optimizer)\n",
    "    test(test_dataloader, model, loss_fn)\n",
    "print(\"Done!\")"
   ]
  },
  {
   "cell_type": "code",
   "execution_count": 24,
   "id": "169710f4-e5dd-4b49-8c0b-c8953902d797",
   "metadata": {},
   "outputs": [
    {
     "name": "stdout",
     "output_type": "stream",
     "text": [
      "saved Pytorch Model State to model.pth\n"
     ]
    }
   ],
   "source": [
    "# Saving Models\n",
    "torch.save(model.state_dict(), \"model.pth\")\n",
    "print(\"saved Pytorch Model State to model.pth\")"
   ]
  },
  {
   "cell_type": "code",
   "execution_count": 25,
   "id": "00d8677e-16f0-40d6-ab31-0aac299fb152",
   "metadata": {},
   "outputs": [
    {
     "data": {
      "text/plain": [
       "<All keys matched successfully>"
      ]
     },
     "execution_count": 25,
     "metadata": {},
     "output_type": "execute_result"
    }
   ],
   "source": [
    "# Loading Models\n",
    "\n",
    "model =  NeuralNetwork().to(device)\n",
    "model.load_state_dict(torch.load(\"model.pth\"))"
   ]
  },
  {
   "cell_type": "code",
   "execution_count": 29,
   "id": "3bad63eb-a3bd-4f12-b11c-7940491d04fe",
   "metadata": {},
   "outputs": [
    {
     "name": "stdout",
     "output_type": "stream",
     "text": [
      "Predicted: \"Ankle boot\", Actual: \"Ankle boot\"\n"
     ]
    }
   ],
   "source": [
    "classes = [\n",
    "    \"T-shirt/top\",\n",
    "    \"Trouser\",\n",
    "    \"Pullover\",\n",
    "    \"Dress\",\n",
    "    \"Coat\",\n",
    "    \"Sandal\",\n",
    "    \"Shirt\",\n",
    "    \"Sneaker\",\n",
    "    \"Bag\",\n",
    "    \"Ankle boot\",\n",
    "]\n",
    "\n",
    "model.eval()\n",
    "x,y = test_data[0][0], test_data[0][1]\n",
    "with torch.no_grad():\n",
    "    x = x.to(device)\n",
    "    pred = model(x)\n",
    "    predicted, actual = classes[pred[0].argmax(0)], classes[y]\n",
    "    print(f'Predicted: \"{predicted}\", Actual: \"{actual}\"')"
   ]
  },
  {
   "cell_type": "code",
   "execution_count": null,
   "id": "8a8027ce-9002-4fc5-9c0b-505d285b6cbd",
   "metadata": {},
   "outputs": [],
   "source": [
    "\n"
   ]
  },
  {
   "cell_type": "code",
   "execution_count": null,
   "id": "5c1871f2-a43b-4a69-ba62-e1ce87f154e5",
   "metadata": {},
   "outputs": [],
   "source": []
  }
 ],
 "metadata": {
  "kernelspec": {
   "display_name": "Python 3 (ipykernel)",
   "language": "python",
   "name": "python3"
  },
  "language_info": {
   "codemirror_mode": {
    "name": "ipython",
    "version": 3
   },
   "file_extension": ".py",
   "mimetype": "text/x-python",
   "name": "python",
   "nbconvert_exporter": "python",
   "pygments_lexer": "ipython3",
   "version": "3.10.12"
  }
 },
 "nbformat": 4,
 "nbformat_minor": 5
}
